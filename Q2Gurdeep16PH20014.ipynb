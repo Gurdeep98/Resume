{
 "cells": [
  {
   "cell_type": "code",
   "execution_count": 1,
   "metadata": {},
   "outputs": [],
   "source": [
    "import time\n",
    "from datetime import datetime, timedelta\n"
   ]
  },
  {
   "cell_type": "code",
   "execution_count": 2,
   "metadata": {},
   "outputs": [],
   "source": [
    "approvedLeaves = [\n",
    "    {\"emp_id\": 1, \"leaveFrom\": \"14-12-2020\", \"leaveUpto\": \"18-12-2020\"},\n",
    "    {\"emp_id\": 3, \"leaveFrom\": \"22-12-2020\", \"leaveUpto\": \"24-12-2020\"},\n",
    "    {\"emp_id\": 7, \"leaveFrom\": \"27-12-2020\", \"leaveUpto\": \"30-12-2020\"},\n",
    "    {\"emp_id\": 29, \"leaveFrom\": \"02-12-2020\", \"leaveUpto\": \"10-12-2020\"},\n",
    "    {\"emp_id\": 45, \"leaveFrom\": \"24-02-2021\", \"leaveUpto\": \"17-03-2021\"}\n",
    "]\n"
   ]
  },
  {
   "cell_type": "code",
   "execution_count": 3,
   "metadata": {},
   "outputs": [],
   "source": [
    "for ele in approvedLeaves:\n",
    "        ele[\"leaveFrom\"] = datetime.strptime(ele[\"leaveFrom\"], '%d-%m-%Y')\n",
    "        ele[\"leaveUpto\"] = datetime.strptime(ele[\"leaveUpto\"], '%d-%m-%Y')"
   ]
  },
  {
   "cell_type": "code",
   "execution_count": 4,
   "metadata": {},
   "outputs": [],
   "source": [
    "sortedArray = sorted(approvedLeaves,key=lambda x:x[\"leaveFrom\"])"
   ]
  },
  {
   "cell_type": "code",
   "execution_count": 5,
   "metadata": {},
   "outputs": [
    {
     "data": {
      "text/plain": [
       "[{'emp_id': 29,\n",
       "  'leaveFrom': datetime.datetime(2020, 12, 2, 0, 0),\n",
       "  'leaveUpto': datetime.datetime(2020, 12, 10, 0, 0)},\n",
       " {'emp_id': 1,\n",
       "  'leaveFrom': datetime.datetime(2020, 12, 14, 0, 0),\n",
       "  'leaveUpto': datetime.datetime(2020, 12, 18, 0, 0)},\n",
       " {'emp_id': 3,\n",
       "  'leaveFrom': datetime.datetime(2020, 12, 22, 0, 0),\n",
       "  'leaveUpto': datetime.datetime(2020, 12, 24, 0, 0)},\n",
       " {'emp_id': 7,\n",
       "  'leaveFrom': datetime.datetime(2020, 12, 27, 0, 0),\n",
       "  'leaveUpto': datetime.datetime(2020, 12, 30, 0, 0)},\n",
       " {'emp_id': 45,\n",
       "  'leaveFrom': datetime.datetime(2021, 2, 24, 0, 0),\n",
       "  'leaveUpto': datetime.datetime(2021, 3, 17, 0, 0)}]"
      ]
     },
     "execution_count": 5,
     "metadata": {},
     "output_type": "execute_result"
    }
   ],
   "source": [
    "sortedArray"
   ]
  },
  {
   "cell_type": "code",
   "execution_count": 6,
   "metadata": {},
   "outputs": [],
   "source": [
    "def isSlotAvailable( sortedArray,startdate,enddate):\n",
    "    startdate=datetime.strptime(startdate, '%d-%m-%Y')\n",
    "    enddate=datetime.strptime(enddate, '%d-%m-%Y')\n",
    "    ret=[] \n",
    "    i=sortedArray[0]\n",
    "    \n",
    "    for j in range (1,len(sortedArray)):\n",
    "        i=sortedArray[j-1]\n",
    "        k=sortedArray[j]\n",
    "#         print(i[\"leaveUpto\"],startdate,k[\"leaveFrom\"],enddate)\n",
    "        if i[\"leaveUpto\"]>=startdate and k[\"leaveFrom\"]<=enddate:\n",
    "            st=i[\"leaveUpto\"]+timedelta(days=1)\n",
    "            en=k[\"leaveFrom\"]-timedelta(days=1)\n",
    "#            print(st,en)\n",
    "            ret.append({\"availableFrom\":st,\"availableUpto\":en})\n",
    "    \n",
    "    l=sortedArray[len(sortedArray)-1]\n",
    "    if k[\"leaveUpto\"]<enddate:\n",
    "        st=k[\"leaveUpto\"]+timedelta(days=1)\n",
    "        en=enddate\n",
    "        ret.append({\"availableFrom\":st,\"availableUpto\":en})\n",
    "    return ret\n",
    "\n"
   ]
  },
  {
   "cell_type": "code",
   "execution_count": 7,
   "metadata": {},
   "outputs": [
    {
     "data": {
      "text/plain": [
       "[{'availableFrom': datetime.datetime(2020, 12, 19, 0, 0),\n",
       "  'availableUpto': datetime.datetime(2020, 12, 21, 0, 0)},\n",
       " {'availableFrom': datetime.datetime(2020, 12, 25, 0, 0),\n",
       "  'availableUpto': datetime.datetime(2020, 12, 26, 0, 0)},\n",
       " {'availableFrom': datetime.datetime(2020, 12, 31, 0, 0),\n",
       "  'availableUpto': datetime.datetime(2021, 2, 23, 0, 0)},\n",
       " {'availableFrom': datetime.datetime(2021, 3, 18, 0, 0),\n",
       "  'availableUpto': datetime.datetime(2021, 3, 30, 0, 0)}]"
      ]
     },
     "execution_count": 7,
     "metadata": {},
     "output_type": "execute_result"
    }
   ],
   "source": [
    "isSlotAvailable(sortedArray,\"14-12-2020\",\"30-03-2021\")"
   ]
  },
  {
   "cell_type": "code",
   "execution_count": null,
   "metadata": {},
   "outputs": [],
   "source": []
  }
 ],
 "metadata": {
  "kernelspec": {
   "display_name": "Python 3",
   "language": "python",
   "name": "python3"
  },
  "language_info": {
   "codemirror_mode": {
    "name": "ipython",
    "version": 3
   },
   "file_extension": ".py",
   "mimetype": "text/x-python",
   "name": "python",
   "nbconvert_exporter": "python",
   "pygments_lexer": "ipython3",
   "version": "3.7.4"
  }
 },
 "nbformat": 4,
 "nbformat_minor": 2
}
