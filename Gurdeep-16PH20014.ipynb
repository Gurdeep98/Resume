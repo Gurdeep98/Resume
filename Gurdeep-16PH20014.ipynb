{
 "cells": [
  {
   "cell_type": "code",
   "execution_count": 2,
   "metadata": {},
   "outputs": [
    {
     "name": "stdout",
     "output_type": "stream",
     "text": [
      "False\n"
     ]
    }
   ],
   "source": [
    "from datetime import datetime\n",
    "\n",
    "approvedLeaves = [\n",
    "    {\"emp_id\": 1, \"leaveFrom\": \"14-12-2020\", \"leaveUpto\": \"18-12-2020\"},\n",
    "    {\"emp_id\": 3, \"leaveFrom\": \"22-12-2020\", \"leaveUpto\": \"24-12-2020\"},\n",
    "    {\"emp_id\": 7, \"leaveFrom\": \"27-12-2020\", \"leaveUpto\": \"30-12-2020\"},\n",
    "    {\"emp_id\": 29, \"leaveFrom\": \"02-12-2020\", \"leaveUpto\": \"10-12-2020\"},\n",
    "    {\"emp_id\": 45, \"leaveFrom\": \"24-02-2021\", \"leaveUpto\": \"17-03-2021\"}\n",
    "]\n",
    "\n",
    "requestedLeave = { \"leaveFrom\": \"19-12-2020\", \"leaveUpto\" : \"20-12-2020\"}\n",
    "\n",
    "def isSlotAvailable( approvedLeaves , requestedLeave ):\n",
    "    requestedLeave[\"leaveFrom\"] = datetime.strptime(requestedLeave[\"leaveFrom\"], '%d-%m-%Y')\n",
    "    requestedLeave[\"leaveUpto\"] = datetime.strptime(requestedLeave[\"leaveUpto\"], '%d-%m-%Y')\n",
    "    for ele in approvedLeaves:\n",
    "        ele[\"leaveFrom\"] = datetime.strptime(ele[\"leaveFrom\"], '%d-%m-%Y')\n",
    "        ele[\"leaveUpto\"] = datetime.strptime(ele[\"leaveUpto\"], '%d-%m-%Y')\n",
    "        if requestedLeave[\"leaveFrom\"] <= ele[\"leaveUpto\"] or requestedLeave[\"leaveUpto\"] >= ele[\"leaveFrom\"]:\n",
    "            return False\n",
    "            \n",
    "    return True\n",
    "    \n",
    "print(isSlotAvailable( approvedLeaves , requestedLeave ))\n"
   ]
  },
  {
   "cell_type": "code",
   "execution_count": null,
   "metadata": {},
   "outputs": [],
   "source": []
  }
 ],
 "metadata": {
  "kernelspec": {
   "display_name": "Python 3",
   "language": "python",
   "name": "python3"
  },
  "language_info": {
   "codemirror_mode": {
    "name": "ipython",
    "version": 3
   },
   "file_extension": ".py",
   "mimetype": "text/x-python",
   "name": "python",
   "nbconvert_exporter": "python",
   "pygments_lexer": "ipython3",
   "version": "3.7.4"
  }
 },
 "nbformat": 4,
 "nbformat_minor": 2
}
